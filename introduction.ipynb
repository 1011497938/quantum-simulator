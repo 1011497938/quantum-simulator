{
 "cells": [
  {
   "cell_type": "markdown",
   "metadata": {},
   "source": [
    "# Task 2: 量子模拟器实现"
   ]
  },
  {
   "cell_type": "code",
   "execution_count": 1,
   "metadata": {},
   "outputs": [],
   "source": [
    "# 实现的两个包\n",
    "from circuit import Circuit, CNOT, U3  #\n",
    "\n",
    "import time\n",
    "from numpy import pi\n",
    "import numpy as np"
   ]
  },
  {
   "cell_type": "markdown",
   "metadata": {},
   "source": [
    "## 初始化电路"
   ]
  },
  {
   "cell_type": "code",
   "execution_count": 2,
   "metadata": {},
   "outputs": [],
   "source": [
    "qubit_numer = 2\n",
    "qc = Circuit(qubit_numer) # 有两个比特[0,1]"
   ]
  },
  {
   "cell_type": "markdown",
   "metadata": {},
   "source": [
    "### 电路提供了两种门 CNOT门 和 U3 门。\n",
    "\n",
    "1. U3 是一个单比特门, 除了连接的比特，有三个参数 theta、lambda、phi。\n",
    "2. CNOT 是一个两比特门， 除了连接的两个比特，没有参数"
   ]
  },
  {
   "cell_type": "code",
   "execution_count": 3,
   "metadata": {},
   "outputs": [
    {
     "data": {
      "text/plain": [
       "array([[ 0.70710678+0.j        , -0.35355339-0.61237244j],\n",
       "       [ 0.5       +0.5j       , -0.1830127 +0.6830127j ]])"
      ]
     },
     "execution_count": 3,
     "metadata": {},
     "output_type": "execute_result"
    }
   ],
   "source": [
    "u3 = U3(0, pi/2, pi/3, pi/4)  # 参数：作用的比特位置，theta、lambda、phi\n",
    "qc.addGate(u3)  # 将其加入电路中\n",
    "u3.matrix()  # 一个u3门对应一个2X2的矩阵"
   ]
  },
  {
   "cell_type": "code",
   "execution_count": 6,
   "metadata": {},
   "outputs": [
    {
     "data": {
      "text/plain": [
       "array([[1, 0, 0, 0],\n",
       "       [0, 1, 0, 0],\n",
       "       [0, 0, 0, 1],\n",
       "       [0, 0, 1, 0]])"
      ]
     },
     "execution_count": 6,
     "metadata": {},
     "output_type": "execute_result"
    }
   ],
   "source": [
    "cnot = CNOT(0,1) # 参数：作用的比特位置\n",
    "qc.addGate(cnot) \n",
    "cnot.matrix()  # 一个cnot门对应一个4X4的矩阵"
   ]
  },
  {
   "cell_type": "code",
   "execution_count": 7,
   "metadata": {},
   "outputs": [
    {
     "name": "stdout",
     "output_type": "stream",
     "text": [
      "     ┌─────────────────┐          \n",
      "q_0: ┤ U3(π/2,π/4,π/3) ├──■────■──\n",
      "     └─────────────────┘┌─┴─┐┌─┴─┐\n",
      "q_1: ───────────────────┤ X ├┤ X ├\n",
      "                        └───┘└───┘\n"
     ]
    }
   ],
   "source": [
    "qiskit_qc = qc.toQiskit()\n",
    "print(qiskit_qc)  # qiskit上是反着的"
   ]
  },
  {
   "cell_type": "code",
   "execution_count": 8,
   "metadata": {},
   "outputs": [
    {
     "data": {
      "image/png": "[encoded data removed]",
      "text/plain": [
       "<Figure size 327.252x144.48 with 1 Axes>"
      ]
     },
     "execution_count": 8,
     "metadata": {},
     "output_type": "execute_result"
    }
   ],
   "source": [
    "# 也可以画的更好看些\n",
    "qiskit_qc.draw('mpl')"
   ]
  },
  {
   "cell_type": "markdown",
   "metadata": {},
   "source": [
    "Circuit.random(gate_number) 用于生成一个随机的电路"
   ]
  },
  {
   "cell_type": "code",
   "execution_count": 9,
   "metadata": {},
   "outputs": [
    {
     "data": {
      "image/png": "[encoded data removed]",
      "text/plain": [
       "<Figure size 568.197x626.08 with 1 Axes>"
      ]
     },
     "execution_count": 9,
     "metadata": {},
     "output_type": "execute_result"
    }
   ],
   "source": [
    "random_qubit_number = 10\n",
    "random_qc = Circuit(random_qubit_number)\n",
    "random_qc.random(20)\n",
    "random_qc.toQiskit().draw('mpl')"
   ]
  },
  {
   "cell_type": "markdown",
   "metadata": {},
   "source": [
    "## 模拟"
   ]
  },
  {
   "cell_type": "code",
   "execution_count": 8,
   "metadata": {},
   "outputs": [],
   "source": [
    "from simulator import simulate"
   ]
  },
  {
   "cell_type": "code",
   "execution_count": 15,
   "metadata": {},
   "outputs": [
    {
     "name": "stdout",
     "output_type": "stream",
     "text": [
      "cost: 3.847222089767456 s\n"
     ]
    }
   ],
   "source": [
    "start_time = time.time()\n",
    "init_state = np.zeros(2**random_qubit_number)  \n",
    "init_state[0] = 1  # 定义初始态, 一个 (1, )\n",
    "final_state = simulate(random_qc, init_state)\n",
    "print('cost:', time.time() - start_time, 's')"
   ]
  },
  {
   "cell_type": "code",
   "execution_count": 16,
   "metadata": {},
   "outputs": [
    {
     "data": {
      "text/plain": [
       "array([-0.01990314+0.13622117j,  0.        +0.j        ,\n",
       "        0.        +0.j        , ...,  0.        +0.j        ,\n",
       "        0.        +0.j        ,  0.        +0.j        ])"
      ]
     },
     "execution_count": 16,
     "metadata": {},
     "output_type": "execute_result"
    }
   ],
   "source": [
    "final_state  #结束态"
   ]
  },
  {
   "cell_type": "code",
   "execution_count": 17,
   "metadata": {},
   "outputs": [
    {
     "name": "stdout",
     "output_type": "stream",
     "text": [
      "(1024,) (1024,)\n"
     ]
    }
   ],
   "source": [
    "print(init_state.shape, final_state.shape)  # 初始态和结束态都是一个(2**qubit_number)的数组"
   ]
  },
  {
   "cell_type": "markdown",
   "metadata": {},
   "source": [
    "和开源库对比验证下"
   ]
  },
  {
   "cell_type": "code",
   "execution_count": 18,
   "metadata": {},
   "outputs": [
    {
     "name": "stdout",
     "output_type": "stream",
     "text": [
      "False\n"
     ]
    }
   ],
   "source": [
    "from qiskit.quantum_info import Operator\n",
    "verified_qc = random_qc.toQiskit().reverse_bits() # qiskt是小端, 我们这里是大端\n",
    "mat = Operator(verified_qc).data\n",
    "verified_state = mat @ init_state\n",
    "print(np.allclose(final_state, verified_state))"
   ]
  },
  {
   "cell_type": "code",
   "execution_count": null,
   "metadata": {},
   "outputs": [],
   "source": []
  }
 ],
 "metadata": {
  "kernelspec": {
   "display_name": "Python 3.9.12 ('py3')",
   "language": "python",
   "name": "python3"
  },
  "language_info": {
   "codemirror_mode": {
    "name": "ipython",
    "version": 3
   },
   "file_extension": ".py",
   "mimetype": "text/x-python",
   "name": "python",
   "nbconvert_exporter": "python",
   "pygments_lexer": "ipython3",
   "version": "3.9.12"
  },
  "orig_nbformat": 4,
  "vscode": {
   "interpreter": {
    "hash": "c6556a622c99bef92ec4ff36552536d7181cdde21406c8b1514febbb7b4d0713"
   }
  }
 },
 "nbformat": 4,
 "nbformat_minor": 2
}
